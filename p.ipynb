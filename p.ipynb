{
 "cells": [
  {
   "cell_type": "code",
   "execution_count": 9,
   "metadata": {},
   "outputs": [],
   "source": [
    "import cv2\n",
    "from ultralytics import YOLO\n",
    "import streamlit as st\n",
    "from PIL import Image\n",
    "import numpy as np\n",
    "import threading"
   ]
  },
  {
   "cell_type": "code",
   "execution_count": 10,
   "metadata": {},
   "outputs": [
    {
     "data": {
      "text/plain": [
       "DeltaGenerator()"
      ]
     },
     "execution_count": 10,
     "metadata": {},
     "output_type": "execute_result"
    }
   ],
   "source": [
    "model = YOLO('best.pt')\n",
    "\n",
    "class_names = ['Bird', 'Cat', 'Dog', 'Elephant', 'Pig', 'Tikus', 'bunny', 'cattle', 'leopard', 'lion', 'rat', 'tiger']\n",
    "\n",
    "st.title(\"Animal\")"
   ]
  },
  {
   "cell_type": "code",
   "execution_count": 11,
   "metadata": {},
   "outputs": [],
   "source": [
    "def detect_traffic_signs(frame):\n",
    "    results = model(frame, conf=0.25)\n",
    "    for result in results:\n",
    "        boxes = result.boxes\n",
    "        for box in boxes:\n",
    "            x1, y1, x2, y2 = box.xyxy[0].tolist()\n",
    "            conf = box.conf[0]\n",
    "            cls = box.cls[0]\n",
    "\n",
    "            x1, y1, x2, y2 = int(x1), int(y1), int(x2), int(y2)\n",
    "            label = f'{class_names[int(cls)]}: {conf:.2f}'\n",
    "\n",
    "            cv2.rectangle(frame, (x1, y1), (x2, y2), (0, 255, 0), 2)\n",
    "            cv2.putText(frame, label, (x1, y1 - 10), cv2.FONT_HERSHEY_SIMPLEX, 0.5, (0, 255, 0), 2)\n",
    "    return frame\n"
   ]
  },
  {
   "cell_type": "code",
   "execution_count": 12,
   "metadata": {},
   "outputs": [],
   "source": [
    "def video_capture():\n",
    "    cap = cv2.VideoCapture(0)\n",
    "\n",
    "    while True:\n",
    "        ret, frame = cap.read()\n",
    "        if not ret:\n",
    "            break\n",
    "\n",
    "        frame = detect_traffic_signs(frame)\n",
    "        cv2.imshow('Traffic Sign Detection', frame)\n",
    "\n",
    "        if cv2.waitKey(1) & 0xFF == ord('q'):\n",
    "            break\n",
    "\n",
    "    cap.release()\n",
    "    cv2.destroyAllWindows()\n",
    "\n",
    "camera_active = False"
   ]
  },
  {
   "cell_type": "code",
   "execution_count": 13,
   "metadata": {},
   "outputs": [],
   "source": [
    "camera_active = False\n",
    "def start_camera():\n",
    "    global camera_active\n",
    "    camera_active = True\n",
    "    video_thread = threading.Thread(target=video_capture)\n",
    "    video_thread.start()\n",
    "\n",
    "# Streamlit UI\n",
    "if st.button(\"Start Camera\"):\n",
    "    start_camera()\n",
    "\n",
    "uploaded_file = st.file_uploader(\"Choose an image...\", type=['jpg', 'png'], key='file_uploader')\n",
    "\n",
    "if uploaded_file is not None:\n",
    "    image = Image.open(uploaded_file)\n",
    "    st.image(image, caption='Uploaded Image', use_column_width=True)\n",
    "    \n",
    "    image_np = np.array(image)\n",
    "\n",
    "    crop_button = st.button('Crop Image')\n",
    "\n",
    "    if crop_button:\n",
    "        def get_mouse_coords(event, x, y, flags, param):\n",
    "            global coords, cropping\n",
    "            if event == cv2.EVENT_LBUTTONDOWN:\n",
    "                coords = [(x, y)]\n",
    "                cropping = True\n",
    "            elif event == cv2.EVENT_LBUTTONUP:\n",
    "                coords.append((x, y))\n",
    "                cropping = False\n",
    "                cv2.rectangle(image_np, coords[0], coords[1], (0, 255, 0), 2)\n",
    "                cv2.imshow(\"Image\", image_np)\n",
    "\n",
    "        coords = []\n",
    "        cropping = False\n",
    "\n",
    "        cv2.namedWindow(\"Image\")\n",
    "        cv2.setMouseCallback(\"Image\", get_mouse_coords)\n",
    "        \n",
    "        while True:\n",
    "            cv2.imshow(\"Image\", image_np)\n",
    "            key = cv2.waitKey(1) & 0xFF\n",
    "\n",
    "            if key == ord(\"q\"):\n",
    "                break\n",
    "\n",
    "        cv2.destroyAllWindows()\n",
    "\n",
    "        if len(coords) == 2:\n",
    "            x1, y1 = coords[0]\n",
    "            x2, y2 = coords[1]\n",
    "\n",
    "            cropped_image = image_np[y1:y2, x1:x2]\n",
    "            st.image(cropped_image, caption='Cropped Image', use_column_width=True)\n",
    "\n",
    "            zoom = st.slider('Zoom', 1, 10, 1)\n",
    "            new_height, new_width = cropped_image.shape[0] * zoom, cropped_image.shape[1] * zoom\n",
    "            zoomed_image = cv2.resize(cropped_image, (new_width, new_height))\n",
    "\n",
    "            results = model(zoomed_image, conf=0.5)\n",
    "\n",
    "            predictions = []\n",
    "            for result in results:\n",
    "                boxes = result.boxes\n",
    "                for box in boxes:\n",
    "                    x1, y1, x2, y2 = box.xyxy[0].tolist()\n",
    "                    conf = box.conf[0]\n",
    "                    cls = box.cls[0]\n",
    "\n",
    "                    x1, y1, x2, y2 = int(x1), int(y1), int(x2), int(y2)\n",
    "                    label = f'{class_names[int(cls)]}: {conf:.2f}'\n",
    "                    predictions.append(label)\n",
    "\n",
    "                    cv2.rectangle(zoomed_image, (x1, y1), (x2, y2), (0, 255, 0), 2)\n",
    "                    cv2.putText(zoomed_image, label, (x1, y1 - 10), cv2.FONT_HERSHEY_SIMPLEX, 0.5, (0, 255, 0), 2)\n",
    "\n",
    "            st.image(zoomed_image, caption='Processed Image', use_column_width=True)\n",
    "            st.write(\"Predictions:\")\n",
    "            for prediction in predictions:\n",
    "                st.write(prediction)"
   ]
  }
 ],
 "metadata": {
  "kernelspec": {
   "display_name": "Python 3",
   "language": "python",
   "name": "python3"
  },
  "language_info": {
   "codemirror_mode": {
    "name": "ipython",
    "version": 3
   },
   "file_extension": ".py",
   "mimetype": "text/x-python",
   "name": "python",
   "nbconvert_exporter": "python",
   "pygments_lexer": "ipython3",
   "version": "3.11.4"
  }
 },
 "nbformat": 4,
 "nbformat_minor": 2
}
