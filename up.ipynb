{
 "cells": [
  {
   "cell_type": "code",
   "execution_count": 13,
   "metadata": {},
   "outputs": [],
   "source": [
    "import cv2\n",
    "from ultralytics import YOLO\n",
    "import streamlit as st\n",
    "from PIL import Image\n",
    "import numpy as np\n",
    "import threading"
   ]
  },
  {
   "cell_type": "code",
   "execution_count": 14,
   "metadata": {},
   "outputs": [],
   "source": [
    "model = YOLO('best (3).pt')\n",
    "\n",
    "class_names = ['Bison', 'Deer', 'Elephant', 'Gorilla', 'Hippopotamus', 'Hyna', 'Indian Black buck', 'IndianWilddog', 'Kangaroo', 'Leopard', 'Nilgiri thar', 'Pangolin', 'RedPanda', 'Rhinoceros', 'bear', 'cheetah', 'fox', 'lion', 'tiger', 'zebra']"
   ]
  },
  {
   "cell_type": "code",
   "execution_count": 15,
   "metadata": {},
   "outputs": [
    {
     "name": "stdout",
     "output_type": "stream",
     "text": [
      "\n",
      "image 1/1 c:\\Users\\LENOVO\\Documents\\a kuliah\\ai\\prak\\a projek uas\\Kelompok-AI-Animal-Planet\\animal_data\\Elephant\\Elephant_1_1.jpg: 640x640 1 Elephant, 592.9ms\n",
      "Speed: 22.0ms preprocess, 592.9ms inference, 4.0ms postprocess per image at shape (1, 3, 640, 640)\n",
      "Results saved to \u001b[1mruns\\detect\\predict10\u001b[0m\n",
      "[ultralytics.engine.results.Results object with attributes:\n",
      "\n",
      "boxes: ultralytics.engine.results.Boxes object\n",
      "keypoints: None\n",
      "masks: None\n",
      "names: {0: 'Bison', 1: 'Elephant', 2: 'Rhinoceros', 3: 'zebra'}\n",
      "obb: None\n",
      "orig_img: array([[[247, 238, 218],\n",
      "        [246, 237, 217],\n",
      "        [245, 237, 214],\n",
      "        ...,\n",
      "        [253, 253, 253],\n",
      "        [253, 253, 253],\n",
      "        [253, 253, 253]],\n",
      "\n",
      "       [[247, 238, 218],\n",
      "        [246, 237, 217],\n",
      "        [246, 238, 215],\n",
      "        ...,\n",
      "        [253, 253, 253],\n",
      "        [253, 253, 253],\n",
      "        [253, 253, 253]],\n",
      "\n",
      "       [[248, 239, 219],\n",
      "        [247, 238, 218],\n",
      "        [247, 238, 218],\n",
      "        ...,\n",
      "        [253, 253, 253],\n",
      "        [253, 253, 253],\n",
      "        [253, 253, 253]],\n",
      "\n",
      "       ...,\n",
      "\n",
      "       [[ 55, 135, 104],\n",
      "        [ 43, 123,  92],\n",
      "        [ 45, 123,  92],\n",
      "        ...,\n",
      "        [ 54, 141, 107],\n",
      "        [ 60, 144, 109],\n",
      "        [ 65, 147, 112]],\n",
      "\n",
      "       [[ 49, 136, 103],\n",
      "        [ 50, 135, 103],\n",
      "        [ 56, 139, 107],\n",
      "        ...,\n",
      "        [ 50, 137, 103],\n",
      "        [ 45, 129,  94],\n",
      "        [ 54, 139, 101]],\n",
      "\n",
      "       [[ 56, 145, 112],\n",
      "        [ 38, 127,  94],\n",
      "        [ 47, 132, 100],\n",
      "        ...,\n",
      "        [ 56, 144, 108],\n",
      "        [ 35, 122,  86],\n",
      "        [ 60, 145, 107]]], dtype=uint8)\n",
      "orig_shape: (224, 224)\n",
      "path: 'c:\\\\Users\\\\LENOVO\\\\Documents\\\\a kuliah\\\\ai\\\\prak\\\\a projek uas\\\\Kelompok-AI-Animal-Planet\\\\animal_data\\\\Elephant\\\\Elephant_1_1.jpg'\n",
      "probs: None\n",
      "save_dir: 'runs\\\\detect\\\\predict10'\n",
      "speed: {'preprocess': 21.980762481689453, 'inference': 592.8764343261719, 'postprocess': 4.00233268737793}]\n"
     ]
    }
   ],
   "source": [
    "out = model.predict(source=\"animal_data/Elephant/Elephant_1_1.jpg\", save=True, conf=0.5)\n",
    "print(out)"
   ]
  }
 ],
 "metadata": {
  "kernelspec": {
   "display_name": "Python 3",
   "language": "python",
   "name": "python3"
  },
  "language_info": {
   "codemirror_mode": {
    "name": "ipython",
    "version": 3
   },
   "file_extension": ".py",
   "mimetype": "text/x-python",
   "name": "python",
   "nbconvert_exporter": "python",
   "pygments_lexer": "ipython3",
   "version": "3.11.4"
  }
 },
 "nbformat": 4,
 "nbformat_minor": 2
}
