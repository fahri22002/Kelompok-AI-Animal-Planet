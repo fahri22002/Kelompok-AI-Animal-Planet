{
 "cells": [
  {
   "cell_type": "code",
   "execution_count": 1,
   "metadata": {},
   "outputs": [],
   "source": [
    "import cv2\n",
    "from ultralytics import YOLO\n",
    "import streamlit as st\n",
    "from PIL import Image\n",
    "import numpy as np\n",
    "import threading"
   ]
  },
  {
   "cell_type": "code",
   "execution_count": 2,
   "metadata": {},
   "outputs": [],
   "source": [
    "model = YOLO('best (5).pt')\n",
    "\n",
    "class_names = ['Buffalo', 'Elephant', 'Rhinoceros', 'zebra']"
   ]
  },
  {
   "cell_type": "code",
   "execution_count": 3,
   "metadata": {},
   "outputs": [
    {
     "name": "stdout",
     "output_type": "stream",
     "text": [
      "\n",
      "image 1/1 c:\\Users\\LENOVO\\Documents\\a kuliah\\ai\\prak\\a projek uas\\Kelompok-AI-Animal-Planet\\gajah.jpg: 384x640 2 Elephants, 178.9ms\n",
      "Speed: 7.7ms preprocess, 178.9ms inference, 14.0ms postprocess per image at shape (1, 3, 384, 640)\n",
      "Results saved to \u001b[1mruns\\detect\\predict3\u001b[0m\n",
      "[ultralytics.engine.results.Results object with attributes:\n",
      "\n",
      "boxes: ultralytics.engine.results.Boxes object\n",
      "keypoints: None\n",
      "masks: None\n",
      "names: {0: 'Bison', 1: 'Elephant', 2: 'Rhinoceros', 3: 'zebra'}\n",
      "obb: None\n",
      "orig_img: array([[[ 7,  9,  9],\n",
      "        [ 7,  9,  9],\n",
      "        [ 7,  9,  9],\n",
      "        ...,\n",
      "        [30, 35, 38],\n",
      "        [31, 36, 39],\n",
      "        [30, 35, 38]],\n",
      "\n",
      "       [[ 7,  9,  9],\n",
      "        [ 7,  9,  9],\n",
      "        [ 7,  9,  9],\n",
      "        ...,\n",
      "        [30, 35, 38],\n",
      "        [31, 36, 39],\n",
      "        [28, 33, 36]],\n",
      "\n",
      "       [[ 7,  9,  9],\n",
      "        [ 7,  9,  9],\n",
      "        [ 7,  9,  9],\n",
      "        ...,\n",
      "        [37, 42, 45],\n",
      "        [39, 44, 47],\n",
      "        [31, 36, 39]],\n",
      "\n",
      "       ...,\n",
      "\n",
      "       [[10, 33, 29],\n",
      "        [12, 35, 31],\n",
      "        [10, 33, 29],\n",
      "        ...,\n",
      "        [15, 26, 23],\n",
      "        [15, 26, 23],\n",
      "        [15, 26, 23]],\n",
      "\n",
      "       [[10, 33, 29],\n",
      "        [12, 35, 31],\n",
      "        [11, 34, 30],\n",
      "        ...,\n",
      "        [12, 23, 20],\n",
      "        [11, 22, 19],\n",
      "        [11, 22, 19]],\n",
      "\n",
      "       [[11, 34, 30],\n",
      "        [13, 36, 32],\n",
      "        [12, 35, 31],\n",
      "        ...,\n",
      "        [11, 22, 19],\n",
      "        [11, 22, 19],\n",
      "        [10, 21, 18]]], dtype=uint8)\n",
      "orig_shape: (1078, 1918)\n",
      "path: 'c:\\\\Users\\\\LENOVO\\\\Documents\\\\a kuliah\\\\ai\\\\prak\\\\a projek uas\\\\Kelompok-AI-Animal-Planet\\\\gajah.jpg'\n",
      "probs: None\n",
      "save_dir: 'runs\\\\detect\\\\predict3'\n",
      "speed: {'preprocess': 7.6847076416015625, 'inference': 178.8780689239502, 'postprocess': 14.034509658813477}]\n"
     ]
    }
   ],
   "source": [
    "out = model.predict(source=\"gajah.jpg\", save=True, conf=0.5)\n",
    "print(out)"
   ]
  }
 ],
 "metadata": {
  "kernelspec": {
   "display_name": "Python 3",
   "language": "python",
   "name": "python3"
  },
  "language_info": {
   "codemirror_mode": {
    "name": "ipython",
    "version": 3
   },
   "file_extension": ".py",
   "mimetype": "text/x-python",
   "name": "python",
   "nbconvert_exporter": "python",
   "pygments_lexer": "ipython3",
   "version": "3.11.4"
  }
 },
 "nbformat": 4,
 "nbformat_minor": 2
}
